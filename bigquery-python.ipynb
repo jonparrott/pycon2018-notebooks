{
 "cells": [
  {
   "cell_type": "code",
   "execution_count": null,
   "metadata": {},
   "outputs": [],
   "source": [
    "%pylab inline\n",
    "pylab.rcParams['figure.figsize'] = (10, 6)"
   ]
  },
  {
   "cell_type": "code",
   "execution_count": null,
   "metadata": {},
   "outputs": [],
   "source": [
    "import matplotlib.pyplot as plt\n",
    "import numpy\n",
    "import seaborn\n",
    "import wordcloud"
   ]
  },
  {
   "cell_type": "markdown",
   "metadata": {},
   "source": [
    "# Python Community Insights With Public Data\n",
    "\n",
    "Using the the [PyPI public dataset](https://bigquery.cloud.google.com/dataset/the-psf:pypi) and the [StackOverflow public dataset](https://bigquery.cloud.google.com/dataset/bigquery-public-data:stackoverflow) what are some insights we can get about the Python community?\n",
    "\n",
    "We'll be using Pandas and the Google Cloud client libraries."
   ]
  },
  {
   "cell_type": "code",
   "execution_count": null,
   "metadata": {},
   "outputs": [],
   "source": [
    "from google.cloud import bigquery\n",
    "%load_ext google.cloud.bigquery"
   ]
  },
  {
   "cell_type": "markdown",
   "metadata": {},
   "source": [
    "## What versions of Python are being used to download packages?\n",
    "\n",
    "Using the the [PyPI public dataset](https://bigquery.cloud.google.com/dataset/the-psf:pypi), get a count of how many downloads there have been for each Python version in January 2018 so far."
   ]
  },
  {
   "cell_type": "code",
   "execution_count": null,
   "metadata": {},
   "outputs": [],
   "source": [
    "%%bigquery pypi_df\n",
    "\n",
    "#standardSQL\n",
    "SELECT\n",
    "  REGEXP_EXTRACT(details.python, r\"[0-9]+\\.[0-9]+\") AS python_version,\n",
    "  COUNT(*) AS downloads\n",
    "FROM `the-psf.pypi.downloads201801*`\n",
    "WHERE details.installer.name = 'pip'\n",
    "GROUP BY python_version\n",
    "ORDER BY downloads DESC"
   ]
  },
  {
   "cell_type": "code",
   "execution_count": null,
   "metadata": {},
   "outputs": [],
   "source": [
    "pypi_df.plot.bar('python_version', 'downloads')"
   ]
  },
  {
   "cell_type": "markdown",
   "metadata": {},
   "source": [
    "We see that a significant portion of downloads are still using Python 2.7, but there is a visible portion using Python 3.x, with about half of those on Python 3.6.\n",
    "\n",
    "## Is the portion using Python 3 changing?"
   ]
  },
  {
   "cell_type": "code",
   "execution_count": null,
   "metadata": {},
   "outputs": [],
   "source": [
    "%%bigquery p3_df\n",
    "\n",
    "#standardSQL\n",
    "SELECT\n",
    "  PARSE_DATE(\"%Y%m%d\", _TABLE_SUFFIX) AS date,\n",
    "  100 * COUNTIF(REGEXP_EXTRACT(details.python, r\"^([^\\.]+)\") = \"3\") / COUNT(*) AS percent_3,\n",
    "  COUNT(*) AS downloads\n",
    "FROM `the-psf.pypi.downloads*`\n",
    "WHERE details.installer.name = 'pip'\n",
    "GROUP BY date"
   ]
  },
  {
   "cell_type": "code",
   "execution_count": null,
   "metadata": {},
   "outputs": [],
   "source": [
    "# Convert to unix timestamp so we can plot.\n",
    "# https://stackoverflow.com/a/8778548/101923\n",
    "\n",
    "import datetime\n",
    "from datetime import timezone\n",
    "\n",
    "p3_df = p3_df.assign(\n",
    "    date_num=p3_df['date'].apply(\n",
    "        lambda d: datetime.datetime(\n",
    "            d.year, d.month, d.day).replace(\n",
    "            tzinfo=timezone.utc).timestamp()))"
   ]
  },
  {
   "cell_type": "code",
   "execution_count": null,
   "metadata": {},
   "outputs": [],
   "source": [
    "p3_df.plot.scatter('date_num', 'percent_3')"
   ]
  },
  {
   "cell_type": "markdown",
   "metadata": {},
   "source": [
    "For a deeper exploration of this dataset and how you can use it to learn about your favorite package, check out [Paul Kehrer's blog post](https://langui.sh/2016/12/09/data-driven-decisions/) and the [pypinfo CLI tool](https://github.com/ofek/pypinfo).\n",
    "\n",
    "## What questions do people ask about Python?\n",
    "\n",
    "Using the [StackOverflow public dataset](https://bigquery.cloud.google.com/dataset/bigquery-public-data:stackoverflow), what are the most popular questions people have about Python?"
   ]
  },
  {
   "cell_type": "code",
   "execution_count": null,
   "metadata": {},
   "outputs": [],
   "source": [
    "%%bigquery so_df\n",
    "\n",
    "#standardSQL\n",
    "SELECT\n",
    "  id, title, view_count\n",
    "FROM `bigquery-public-data.stackoverflow.posts_questions`\n",
    "WHERE tags like '%python%'\n",
    "ORDER BY view_count DESC\n",
    "LIMIT 100"
   ]
  },
  {
   "cell_type": "markdown",
   "metadata": {},
   "source": [
    "The most popular question is about how to [parse a string to a float or integer](https://stackoverflow.com/questions/379906/parse-string-to-float-or-int). All of these questions are about working with Python itself and not any specific package. Some top topics include:\n",
    "\n",
    "- built-in objects like strings and dictionaries\n",
    "- time\n",
    "- parsing\n",
    "\n",
    "Let's build a word cloud to see what topics pop out."
   ]
  },
  {
   "cell_type": "code",
   "execution_count": null,
   "metadata": {},
   "outputs": [],
   "source": [
    "wc = wordcloud.WordCloud(\n",
    "    width=800, height=600, background_color='white')\n",
    "wc.generate(' '.join(so_df.title))\n",
    "plt.axis('off')\n",
    "plt.imshow(wc, interpolation='bilinear')"
   ]
  },
  {
   "cell_type": "markdown",
   "metadata": {},
   "source": [
    "## Are some packages harder to use?\n",
    "\n",
    "The nice thing about BigQuery is that if you have access to several datasets, you can join them together. Even though the PyPI dataset is in `the-psf` project and the StackOverlow dataset is in the `bigquery-public-data` project, we can still join them together.\n",
    "\n",
    "I'm interested to know which packages have more questions per download in 2017."
   ]
  },
  {
   "cell_type": "code",
   "execution_count": null,
   "metadata": {},
   "outputs": [],
   "source": [
    "%%bigquery qpd_df\n",
    "\n",
    "#standardSQL\n",
    "SELECT\n",
    "  project,\n",
    "  SUM(questions) / downloads AS qpd,\n",
    "  SUM(questions) AS total_questions,\n",
    "  downloads\n",
    "FROM (\n",
    "  SELECT\n",
    "    file.project AS project,\n",
    "    COUNT(*) AS downloads\n",
    "  FROM `the-psf.pypi.downloads2017*`\n",
    "  WHERE details.installer.name = 'pip'\n",
    "  GROUP BY project ) pypi\n",
    "JOIN (\n",
    "  SELECT\n",
    "    tags,\n",
    "    COUNT(*) AS questions\n",
    "  FROM `bigquery-public-data.stackoverflow.posts_questions`\n",
    "  WHERE tags LIKE '%python%'\n",
    "  GROUP BY tags ) so\n",
    "ON pypi.project IN UNNEST(SPLIT(so.tags, '|'))\n",
    "WHERE pypi.downloads >= 10000\n",
    "GROUP BY project, downloads\n",
    "ORDER BY qpd DESC"
   ]
  },
  {
   "cell_type": "markdown",
   "metadata": {},
   "source": [
    "Some of these, like the [list package](https://pypi.org/project/List/1.3.0/) do exist, but refer to built-in modules / types and were likely downloaded by mistake.\n",
    "\n",
    "Others, like `opencv` and `boost` really are pretty complex packages, so I'm not too surprised that there are more questions about them."
   ]
  },
  {
   "cell_type": "code",
   "execution_count": null,
   "metadata": {},
   "outputs": [],
   "source": [
    "qpd_df.plot.scatter('downloads', 'total_questions')"
   ]
  },
  {
   "cell_type": "markdown",
   "metadata": {},
   "source": [
    "There isn't an obvious trend, but we see that our query has grabbed some of those outliers with many questions and relatively few downloads."
   ]
  }
 ],
 "metadata": {
  "kernelspec": {
   "display_name": "Python 3",
   "language": "python",
   "name": "python3"
  },
  "language_info": {
   "codemirror_mode": {
    "name": "ipython",
    "version": 3
   },
   "file_extension": ".py",
   "mimetype": "text/x-python",
   "name": "python",
   "nbconvert_exporter": "python",
   "pygments_lexer": "ipython3",
   "version": "3.6.0"
  }
 },
 "nbformat": 4,
 "nbformat_minor": 2
}
