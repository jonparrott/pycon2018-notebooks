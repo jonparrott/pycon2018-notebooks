{
 "cells": [
  {
   "cell_type": "code",
   "execution_count": null,
   "metadata": {},
   "outputs": [],
   "source": [
    "from IPython.display import Audio"
   ]
  },
  {
   "cell_type": "markdown",
   "metadata": {},
   "source": [
    "# Transcribing audio using the Cloud Speech to Text API.\n",
    "\n",
    "This notebooks shows how you can use the Google Cloud Speech to Text API to transcribe audio and the Google Cloud Natural Language API to categorize the text. \n",
    "\n",
    "We'll use the Google Cloud Client Libraries to do this.\n",
    "\n",
    "## Let's transcribe the State of the Union speech by President Barack Obama.\n",
    "\n",
    "Here's an except from that speech:"
   ]
  },
  {
   "cell_type": "code",
   "execution_count": null,
   "metadata": {},
   "outputs": [],
   "source": [
    "with open('data/speech.wav', 'rb') as fh:\n",
    "    audio_content = fh.read()\n",
    "    \n",
    "Audio(audio_content)"
   ]
  },
  {
   "cell_type": "markdown",
   "metadata": {},
   "source": [
    "## Use the client library to transcribe this audio."
   ]
  },
  {
   "cell_type": "code",
   "execution_count": null,
   "metadata": {},
   "outputs": [],
   "source": [
    "from google.cloud import speech"
   ]
  },
  {
   "cell_type": "code",
   "execution_count": null,
   "metadata": {},
   "outputs": [],
   "source": [
    "def transcribe(audio_content):\n",
    "    client = speech.SpeechClient()\n",
    "\n",
    "    audio = speech.types.RecognitionAudio(content=audio_content)\n",
    "    config = speech.types.RecognitionConfig(\n",
    "        encoding=speech.enums.RecognitionConfig.AudioEncoding.LINEAR16,\n",
    "        sample_rate_hertz=24000,\n",
    "        language_code='en-US')\n",
    "    \n",
    "    response = client.recognize(config, audio)\n",
    "\n",
    "    return response"
   ]
  },
  {
   "cell_type": "code",
   "execution_count": null,
   "metadata": {},
   "outputs": [],
   "source": [
    "response = transcribe(audio_content)\n",
    "response"
   ]
  },
  {
   "cell_type": "markdown",
   "metadata": {},
   "source": [
    "### Print the transcript\n",
    "\n",
    "The API returns the transcript in parts because it may have different confidences in each phrase."
   ]
  },
  {
   "cell_type": "code",
   "execution_count": null,
   "metadata": {},
   "outputs": [],
   "source": [
    "transcript = ''.join([result.alternatives[0].transcript for result in response.results])\n",
    "transcript"
   ]
  },
  {
   "cell_type": "markdown",
   "metadata": {},
   "source": [
    "## Classifying the text using the Natural Language API\n",
    "\n",
    "The Natural Language API does text analysis and can pull out important entities and classify the overall document."
   ]
  },
  {
   "cell_type": "code",
   "execution_count": null,
   "metadata": {},
   "outputs": [],
   "source": [
    "from google.cloud import language\n",
    "language_client = language.LanguageServiceClient()"
   ]
  },
  {
   "cell_type": "code",
   "execution_count": null,
   "metadata": {},
   "outputs": [],
   "source": [
    "document = language.types.Document(\n",
    "    content=transcript,\n",
    "    type=language.enums.Document.Type.PLAIN_TEXT)\n",
    "response = language_client.annotate_text(document, features={'extract_entities': True, 'classify_text': True})\n",
    "response"
   ]
  }
 ],
 "metadata": {
  "kernelspec": {
   "display_name": "Python 3",
   "language": "python",
   "name": "python3"
  },
  "language_info": {
   "codemirror_mode": {
    "name": "ipython",
    "version": 3
   },
   "file_extension": ".py",
   "mimetype": "text/x-python",
   "name": "python",
   "nbconvert_exporter": "python",
   "pygments_lexer": "ipython3",
   "version": "3.6.0"
  }
 },
 "nbformat": 4,
 "nbformat_minor": 2
}
