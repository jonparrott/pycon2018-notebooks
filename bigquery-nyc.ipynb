{
 "cells": [
  {
   "cell_type": "code",
   "execution_count": null,
   "metadata": {},
   "outputs": [],
   "source": [
    "from IPython.display import Image"
   ]
  },
  {
   "cell_type": "code",
   "execution_count": null,
   "metadata": {},
   "outputs": [],
   "source": [
    "from google.cloud import bigquery\n",
    "%load_ext google.cloud.bigquery"
   ]
  },
  {
   "cell_type": "markdown",
   "metadata": {},
   "source": [
    "# What are the most popular Citibike destinations for couples in NYC?\n",
    "\n",
    "> From Tim Swast's blog: [What are the most popular Citibike destinations for NYC couples?](https://medium.com/@TimSwast/what-are-the-most-popular-citibike-destinations-for-nyc-couples-1baf646fbba)\n",
    "\n",
    "Let’s use BigQuery and the [New York City public dataset on Citibike trips](https://cloud.google.com/bigquery/public-data/nyc-citi-bike) to find the most and *least* romantic spots to bike to with your significant other."
   ]
  },
  {
   "cell_type": "markdown",
   "metadata": {},
   "source": [
    "## The Query\n",
    "\n",
    "Breaking this query down, we group Citibike trips together into ones that start and end at about the same time. If the grouped-together trip had more than one person in it, we call it a couple. (Obviously this could be a trip with friends and/or family, too.) Then, I find which stations have the highest percentage of trips from couples versus single-rider trips."
   ]
  },
  {
   "cell_type": "code",
   "execution_count": null,
   "metadata": {},
   "outputs": [],
   "source": [
    "%%bigquery popularspots\n",
    "\n",
    "#standardSql\n",
    "SELECT\n",
    "  group_trips / (single_trips + group_trips) AS percent_groups,\n",
    "  single_trips + group_trips AS total_trips,\n",
    "  q.end_station_id AS end_station_id,\n",
    "  stations.name AS name,\n",
    "  stations.latitude AS latitude,\n",
    "  stations.longitude AS longitude\n",
    "FROM (\n",
    "  SELECT\n",
    "    COUNTIF(group_size = 1) AS single_trips,\n",
    "    COUNTIF(group_size != 1) AS group_trips,\n",
    "    end_station_id\n",
    "  FROM (\n",
    "    SELECT\n",
    "      ROUND(UNIX_SECONDS(starttime) / 120) AS start,\n",
    "      -- round to nearest 2 minutes\n",
    "      ROUND(UNIX_SECONDS(stoptime) / 120) AS stop,\n",
    "      -- round to nearest 2 minutes\n",
    "      start_station_id,\n",
    "      end_station_id,\n",
    "      COUNT(*) AS group_size\n",
    "    FROM\n",
    "      `bigquery-public-data.new_york.citibike_trips`\n",
    "    GROUP BY\n",
    "      start,\n",
    "      stop,\n",
    "      start_station_id,\n",
    "      end_station_id )\n",
    "  GROUP BY\n",
    "    end_station_id ) q\n",
    "LEFT JOIN\n",
    "  `bigquery-public-data.new_york.citibike_stations` AS stations\n",
    "ON\n",
    "  q.end_station_id = stations.station_id\n",
    "WHERE\n",
    "  name is not NULL\n",
    "ORDER BY\n",
    "  percent_groups DESC"
   ]
  },
  {
   "cell_type": "markdown",
   "metadata": {},
   "source": [
    "## The results\n",
    "\n",
    "The number 1 spot for couples to bike to together is the 5 Ave & E 88 St Citibike station, right by Central Park, with 30% of trips completed by couples. Also in top spots were the other stations around Central Park: \n",
    "5 Ave & E 78 St and 5 Ave & E 93 St.\n",
    "\n",
    "The runner-up is Cadman Plaza E & Tillary St in Brooklyn, with 26% of trips completed by couples. Third place goes to Brooklyn Bridge Park — Pier 2, with 22% of trips completed by couples.\n",
    "\n",
    "Where does the data say you shouldn’t you take your significant other? Only 1% of trips completed at the Penn Station Valet station were by couples."
   ]
  },
  {
   "cell_type": "markdown",
   "metadata": {},
   "source": [
    "## Mapping it out\n",
    "\n",
    "We can use some jupyter features and the Google Static Maps API to visualize these locations."
   ]
  },
  {
   "cell_type": "code",
   "execution_count": null,
   "metadata": {},
   "outputs": [],
   "source": [
    "import os\n",
    "from urllib.parse import urlencode\n",
    "\n",
    "def map_with_markers(center, markers):\n",
    "    markers = [f\"color:{marker['color']}|{marker['latitude']},{marker['longitude']}\" for marker in markers]\n",
    "    params = {\n",
    "        'key': os.environ.get('GOOGLE_API_KEY'),\n",
    "        'size': '1200x1200',\n",
    "        'center': center,\n",
    "        'zoom': 12,\n",
    "        'markers': markers\n",
    "    }\n",
    "    base_url = 'https://maps.googleapis.com/maps/api/staticmap'\n",
    "    url = f\"{base_url}?{urlencode(params, doseq=True)}\"\n",
    "    return Image(url=url, format='jpg')\n",
    "\n",
    "import colorsys\n",
    "\n",
    "def color_for_magnitude(mag, hue):\n",
    "    r, g, b = map(lambda x: int(x * 255), colorsys.hsv_to_rgb(hue, 1.0-mag, 1.0))\n",
    "    return f'0x{r:02x}{g:02x}{b:02x}'"
   ]
  },
  {
   "cell_type": "markdown",
   "metadata": {},
   "source": [
    "### Map of the most popular spots"
   ]
  },
  {
   "cell_type": "code",
   "execution_count": null,
   "metadata": {},
   "outputs": [],
   "source": [
    "top_15 = popularspots.to_dict('records')[:15]\n",
    "markers = [\n",
    "    {'latitude': location['latitude'] , 'longitude': location['longitude'], 'color': color_for_magnitude(rank/15, 0.6)}\n",
    "    for rank, location in enumerate(top_15, 1)]\n",
    "\n",
    "map_with_markers('', markers)"
   ]
  },
  {
   "cell_type": "markdown",
   "metadata": {},
   "source": [
    "### Map of the least popular spots"
   ]
  },
  {
   "cell_type": "code",
   "execution_count": null,
   "metadata": {},
   "outputs": [],
   "source": [
    "bottom_15 = popularspots.to_dict('records')[-15:]\n",
    "markers = [\n",
    "    {'latitude': location['latitude'] , 'longitude': location['longitude'], 'color': color_for_magnitude(rank/15, 0.0)}\n",
    "    for rank, location in enumerate(bottom_15, 1)]\n",
    "\n",
    "map_with_markers('', markers)"
   ]
  },
  {
   "cell_type": "code",
   "execution_count": null,
   "metadata": {},
   "outputs": [],
   "source": []
  }
 ],
 "metadata": {
  "kernelspec": {
   "display_name": "Python 3",
   "language": "python",
   "name": "python3"
  },
  "language_info": {
   "codemirror_mode": {
    "name": "ipython",
    "version": 3
   },
   "file_extension": ".py",
   "mimetype": "text/x-python",
   "name": "python",
   "nbconvert_exporter": "python",
   "pygments_lexer": "ipython3",
   "version": "3.6.0"
  }
 },
 "nbformat": 4,
 "nbformat_minor": 2
}
