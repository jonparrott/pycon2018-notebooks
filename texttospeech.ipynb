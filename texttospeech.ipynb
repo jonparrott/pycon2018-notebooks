{
 "cells": [
  {
   "cell_type": "code",
   "execution_count": null,
   "metadata": {},
   "outputs": [],
   "source": [
    "from IPython.display import Audio"
   ]
  },
  {
   "cell_type": "markdown",
   "metadata": {},
   "source": [
    "# Give your code a voice with the Text to Speech API\n",
    "\n",
    "This notebook shows how you can use the Google Cloud Text to Speech API to synthesize speech from text.\n",
    "\n",
    "We'll use the Google Cloud Client Libraries to do this.\n",
    "\n",
    "## Hello, world!"
   ]
  },
  {
   "cell_type": "code",
   "execution_count": null,
   "metadata": {},
   "outputs": [],
   "source": [
    "from google.cloud import texttospeech"
   ]
  },
  {
   "cell_type": "code",
   "execution_count": null,
   "metadata": {},
   "outputs": [],
   "source": [
    "def synthesize(text, voice=None):\n",
    "    client = texttospeech.TextToSpeechClient()\n",
    "\n",
    "    input_text = texttospeech.types.SynthesisInput(text=text)\n",
    "\n",
    "    if voice is not None:\n",
    "        voice = texttospeech.types.VoiceSelectionParams(\n",
    "            language_code='en-US',\n",
    "            name=voice)\n",
    "    else:\n",
    "        voice = texttospeech.types.VoiceSelectionParams(\n",
    "            language_code='en-US',\n",
    "            ssml_gender=texttospeech.enums.SsmlVoiceGender.FEMALE)\n",
    "\n",
    "    audio_config = texttospeech.types.AudioConfig(\n",
    "        audio_encoding=texttospeech.enums.AudioEncoding.MP3)\n",
    "\n",
    "    response = client.synthesize_speech(input_text, voice, audio_config)\n",
    "    \n",
    "    return Audio(response.audio_content)"
   ]
  },
  {
   "cell_type": "code",
   "execution_count": null,
   "metadata": {},
   "outputs": [],
   "source": [
    "synthesize(\"Hello, PyCon! It is great to see you today.\")"
   ]
  },
  {
   "cell_type": "markdown",
   "metadata": {},
   "source": [
    "## Not just one voice, many!\n",
    "\n",
    "The API contains a variety of voices for use across a variety of languages."
   ]
  },
  {
   "cell_type": "code",
   "execution_count": null,
   "metadata": {},
   "outputs": [],
   "source": [
    "client = texttospeech.TextToSpeechClient()\n",
    "voices = client.list_voices()\n",
    "voices"
   ]
  },
  {
   "cell_type": "markdown",
   "metadata": {},
   "source": [
    "## More natural speech using Wavenet voices\n",
    "\n",
    "The Text to Speech API offers several voices that uses Google's Wavenet technology to synthesize more natural sounding voices."
   ]
  },
  {
   "cell_type": "code",
   "execution_count": null,
   "metadata": {},
   "outputs": [],
   "source": [
    "synthesize('Hello again, this voice uses wavenet.', voice='en-US-Wavenet-B')"
   ]
  },
  {
   "cell_type": "code",
   "execution_count": null,
   "metadata": {},
   "outputs": [],
   "source": [
    "synthesize('\"and what is the use of a book,\" thought Alice, \"without pictures or conversations?\"', voice='en-US-Wavenet-C')"
   ]
  }
 ],
 "metadata": {
  "kernelspec": {
   "display_name": "Python 3",
   "language": "python",
   "name": "python3"
  },
  "language_info": {
   "codemirror_mode": {
    "name": "ipython",
    "version": 3
   },
   "file_extension": ".py",
   "mimetype": "text/x-python",
   "name": "python",
   "nbconvert_exporter": "python",
   "pygments_lexer": "ipython3",
   "version": "3.6.0"
  }
 },
 "nbformat": 4,
 "nbformat_minor": 2
}
