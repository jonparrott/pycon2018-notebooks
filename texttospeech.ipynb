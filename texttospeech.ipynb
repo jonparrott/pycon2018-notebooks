{
 "cells": [
  {
   "cell_type": "code",
   "execution_count": 4,
   "metadata": {},
   "outputs": [],
   "source": [
    "from IPython.display import Audio"
   ]
  },
  {
   "cell_type": "markdown",
   "metadata": {},
   "source": [
    "# Give your code a voice with the Text to Speech API\n",
    "\n",
    "This notebook shows how you can use the Google Cloud Text to Speech API to synthesize speech from text.\n",
    "\n",
    "We'll use the Google Cloud Client Libraries to do this.\n",
    "\n",
    "## Hello, world!"
   ]
  },
  {
   "cell_type": "code",
   "execution_count": 1,
   "metadata": {},
   "outputs": [],
   "source": [
    "from google.cloud import texttospeech"
   ]
  },
  {
   "cell_type": "code",
   "execution_count": 2,
   "metadata": {},
   "outputs": [],
   "source": [
    "def synthesize(text, voice=None):\n",
    "    client = texttospeech.TextToSpeechClient()\n",
    "\n",
    "    input_text = texttospeech.types.SynthesisInput(text=text)\n",
    "\n",
    "    if voice is not None:\n",
    "        voice = texttospeech.types.VoiceSelectionParams(\n",
    "            language_code='en-US',\n",
    "            name=voice)\n",
    "    else:\n",
    "        voice = texttospeech.types.VoiceSelectionParams(\n",
    "            language_code='en-US',\n",
    "            ssml_gender=texttospeech.enums.SsmlVoiceGender.FEMALE)\n",
    "\n",
    "    audio_config = texttospeech.types.AudioConfig(\n",
    "        audio_encoding=texttospeech.enums.AudioEncoding.MP3)\n",
    "\n",
    "    response = client.synthesize_speech(input_text, voice, audio_config)\n",
    "    \n",
    "    return Audio(response.audio_content)"
   ]
  },
  {
   "cell_type": "code",
   "execution_count": 5,
   "metadata": {},
   "outputs": [
    {
     "data": {
      "text/html": [
       "\n",
       "                <audio controls=\"controls\" >\n",
       "                    <source src=\"data:audio/wav;base64,//NExAAAAANIAAAAAL3wQBAhBwAACBCIj2QIECCEY5MAAAgQj3dkIj3d3v///u4j3ZO9YmTB//+GKwxB/+XPy7/qcJAx+D+XflwfeXB8+IBoYE4PqqfJPdBZCQXqsWFQ//NExFMRyQXgAUYwAC5w7hF//afG8E7GdAXYpIdoZKChgOUEORpEyKFgG4w1I+DYLvx0jTGSIQrjsBuYAIAP3DEn5XMSuYHlC4xPZwXAeFJ/zYuXUggGrCKm50ixaM/+//NExF4iCv5cAZiYAaQQZ0004oQaAr5fSLpFy2l/+t/1IM6Kj7GhkggdN0H/////0EzQHSljR9U4bs7EQilIhcssoPA6RqFwoRsE4FksBfq1h4oKkXrYmSYhsm8nhWD0//NExCga2aKUAclgAOyWWyZWi+uoniXHGZ2yHLKPqvvhwr44vZym/N/+Vlb0v00v+wUfip7Z8es4QBC20gkybMnEyDxCFi8kis0renclVPIKxa6cTot5Y5PDj7pr7tqx//NExA8VCTKsAHsScD6NItOjgSDkkh+3KUrkZOTmT5AhE71EBoikKCmsYgcwxc6UpSEGLgx/36hapAfFQQWHzJJIPA4gvFnAjyl2l6/bjHFHClX+41npPCtZ7wUwnNa4//NExA0S6Sq8AMPQcPtL+LGOcvb1tZki3woUaseGNHYvbQSBRpCDjabpohazUf7+6epNk0YAAOB5OWQeYdLgY23/7MLBgXMCMTBYuvz1No6HLcMWuYly3NtcqlhJE/0U//NExBQVSjK0AMREucUOCPGLkRHND4SRUccZ02Y8wxo5l5SL6CSnSbosk6KJ5+tSWYWVjDnQVVR9adyOy4yXQid1p//+2yHqhg4lCxkFVc/ynWPnvCNShmu+4ANq/nMJ//NExBEW4jKkANTQuXkhUWZShTCAoLsKJWJk0AgAbCnLYdcghcOmaYeqk9MmatS/f0H9HVazTGjQ0k1MfqWtdlXzMEqlGHmx0tf//////evk1pA00Ccb1atabgwqynkY//NExAgRSYagAMvElOi+k6Mimq0xbDLYE4FkszJ0/h0q7MAfAv73hItGS6tlitb/7//3///p5wFkQ5W7er8gEryWj/6w0xgVhksqu57vCNSG3ZNTssMTPDhLqW7FAJUS//NExBUSKZaYANNElM5kSgJCany+SYD0OaUDQcprXSRuv7////+tDPkZeuf0d0GUmf/+8mgBkCAIBgsr/v0fOU3PGaT/Mn1ASWGImwk3BGF2LckdjuV0FMHKyZUNgLcS//NExB8Q4jacANNEuMkJeCzJWmmh/3////+n29qJpTYpZf///+i9DbNQQib/6/WyWrXfa6iRxBTF9wAjqEVmnW0QDVRPGglKCdiOFSqqhTZxO6mb2Zf9y59BEBwSPOMa//NExC4QsTqkANYOcJ////5lEGhB3+m2Yb//vjVIAwFPId6kpIIFziV1uxVe2fj4llkAMgdMEjb2mqPQwU1Sg3AgA4wAoBk6OnAaKqkgsKhAGZ/7+yGBw00637SIp//y//NExD4QiJ6wAMYYTLFlkwIq/80OA2belVEasZWiGrDeiYjK71LQsTV7Sxtc8C40DvRXGG4Hh1E3AdmZuN5Ha967e2f/x/H8X1xsq0kgMj9a0MX//3MexFX9yQQaadnM//NExE4RiSq4AMYWcKEqXYoHZWGFrLdHcAWZkuDAAw2bHsAxzCE6zzgsiNGOASwL17AUBVp/rU0k8LFATCiRdnxgqRC3//1q/UlDVwdk2NJm9DCrMXJI1xdJm2WKQviL//NExFoQWKq8AMPYTCyhDidXaGzxgDQ+IACAlaLYllnYWHgqHTa0QKsyPFBYFBZvpZa06OWqit1oyDzJbNipbi0ii7Js4ARZ5DAezJjyiNRqjQRz5kExmNw92U5ybKl8//NExGsQYLK4AMPYTH+pp6Pa5u93fHC6bHY0u5MbwMCIVpS5//96TkKYSCWiymSSAWjDE0A0Ru6IksXlggkqD19sgl98vpA1dW9ksxKQ51Vn4tqHq7eX8cot9Srz7Hd8//NExHwSMYKwAMvGlMvn5eXz3LxNBiqCIBJ2P1zpciVUokgPOrUIV0P+1XtYBVdnMTFEA8SkwNTFDGWN1GiaCQIC3lzEBc+8zMAk9kCaQQVIb0upMY7F96t/+/3W/7Vb//NExIYSoXqkAMYGlXapKkWWUOuJAEIJNR+73odTB4UDodGCh4k8iln/+gzVv1ioJPBkHhFKZKWGK3nFRxxy6P5YCA5erycTSQfbRNEeopu2E0RAY0B44QW6yePtZrXu//NExI4WiYKYANZKlFmvzWeeP8xw1rK7/29bsyBQoYjF7aWuqwriwQ46truZx6rUuUsNflwwNU2CxGCCwmCKEDJJpIqW+SNAgNeXwAHKxtR4yVJOxMyoQoAyiAmdPncs//NExIYVGX6QANYElcyIIgD9Kf/9u2lFEgzxvXxMTAIbccjKaqBhJgISaJ2mchyVg4EmFLoOWFpGChBiZ0CjNy3/gF2pWBQQwcGRxdIAgwGLiIFclpQHC0VTlabPPMR6//NExIQSESaIAN5EcNv0fKGk/KmXlAo+NTTVABPPyJIyCTjAohcGEmPkuYcCBjYImBAPDVYymFguBVFEj7+IBKALgAAAucGwaABpigdHOGaGUJUMBEqiQJFlzUuEyWGT//NExI4SCIJ8AVtgADIyWr5mkcZMmDJajI+c/J86gpZkYNa6l/yeOHD6Dsty6epUVLS/+ynQMU97qRUdfV+5INGXKXCqH1AYeisCQAQHi0yIIIgdjJINSa7nsmPsra5a//NExJggKipcAZyQANNW2ZjoCAmqlGb2Zj/ZiZjVYBAQSBro//4lBYq6DRYO1HiODTv//EvKhur//11VUYHUqqqosskLBIxYMHu/6QZVVGI///1lll1VVSMZVVVRZZao//NExGoQUP2sAcwYACRiwYX//9VVVGZ///rLLP//6DKqozP//CVlkhcG4Hwbk8qGlyoWMSCQeLDAwMHNKAgSZSmLkjGTmoghCiAUMKQ9fOogQLhcnbijbIyfYQpGjFaO//NExHsRAADgAAjGlX7aO5NPxEY2eCEcxAmT0gQw/f7320ftGXZMnv/b9ydkwAgenv//cmTJkyadxEdiBDGJ1jtEIQeTJ32z3h5PTCCBhCz9bPbEE7swgInqAeUmg4Mg//NExIog0wnoAGJMuWpcEBAOhAbLovJH86eRmaiF6FOpWVKBqyyWIhwVomxAYFrUtggljldzjruIPTqOh/UuO0eU32TNpSEI5lW5u0oqByDnKLSWhcWWx+psYpLEjEXP//NExFkgwxoAAUwwAcpu5Px5OyFXCSBMpkp6Usi9HnIxH2toh0IQKKXZpJDvS/CDWc5lSe5dj+eCnwEUtKD85SoUNAeH/pbbaSXjrEpkTDkwSgyP47E0Bc4bsUcLgxcn//NExCkcWvqMAZiAAcZsrjMEENC8S5RIin+T7oE/m5uOgoHSn/Z7rN2MjMxJM2QPf9N1NQayJQUWjQvl9E//+hQ+3RKqmY3nWM00////+3uabUWNm1VMOz7VN+Z3qWyY//NExAoSeYaoAcxAAOJ0/OlGNGQOD5hIOCCBoPnECj0j0c0WMVre7e2Wop2tEHvUyPsjdpe+pibf/6mWtxtl2WGHBNsi1JxCmN/6axzGOYAxKwpb61b6ti7XeSd1ZaRx//NExBMQyYq0AHvGlEqgZIDGjFw5M8N5Hi5prcS1of1o1M2J66wqZjbTSnnDnnz//pLFLAZ1Ov9B2g3+9NXHl1N4sFubya5L8uLtzy8P8XNYeQFQ9izAYx1bTBKViWJE//NExCIScRqwAMPYcBWIzB6VDiFZsd/oxlbT3Zau1vm5PfSFzAom2/kXJUbU93/1hVO1Pmn86jcw86R8xRufr/Ejtug0xPHlV0Ch1BejUIp/mONX9gfSklEvF5JTDw3L//NExCsRURq0AMvacP09az+s3agaPUx9iP3Xraw//+2YaIB6RGxaVdbuJKgLEpy6IA3fzIKm9RwO4bsZ6xANWM4EKd1lRaV3oqG1qMBTWtxzItdqUc077qNrsylN+bbt//NExDgSERK0AMPYcCA2C4Tq6K6Hi7L7P/qY2kUV/d9SgXtkGbMw6aTesGJWkV6bQph3HbcJPS7bG/OHJLZ59wm3pTl7hfkMBp8TrGaUfDEh10otOlZ97K6lCooOF4vZ//NExEISoSKsAM4ScPGK//7RUk9gxdXHxBsj4WLOAFjvVQ2QgL9WfuRq1aU68yW/qufrNX1mv7j/X/+2ssrkpCk8jUCxG9lZ5kNBCQOc1qnf/7V507vT////ap02RrKY//NExEoSKjqgAMJOua4AifvlpFRJvGcy73TaCl8HaNjY9DWOc6WW37//Q3+ZRFjModQw0CkzGUY4iU6Vc78RFdsOhpc991XQwYBTv//5KhkAtcNBASM9o08FDUAKltas//NExFQQoR58AMLKcMpjFPNU2et4Wv/vP0wZ7qW/apcyqkBE2Msr3KCIgIDCQGXW5UqmVLVqDvtViMWTYjWN8JPPN/viXpr/b+HAtQBDf/ew5MdJ/8rAcsHGdZgaA0Ag//NExGQSoP48AVkQAAI4DTBvWkaGQGcJAiCA2CwNMM+XSDicyKJgYEyEAgDjRgFhom7833xnC+LkFxEIb/6mbidCYMRonDQd///tOoGpWJw+RQmxAD/+3/kwSBoiT5Fy//NExGwhQypsAZmgAPm5ucNDf///9v9Ag5fL6LDNksOgcAj8nzdIEAfXLIaghceIgChdZJtC1Ws3J2smkEkeRUTE5tpVdos9AEABrB8LSkJEeIMT7lhA+TBgLh4algBS//NExDoVCO6oAclIAKUQY9nfeLuLuI5InT2/3ISQaZXMhi6hIpsI1ambBMNpJR1x/NhvZb+Z3SMD7cGKJW20dKihCJiNVfaJCdCZMuckrfxupwu2thG0WhG0KD46PNtX//NExDgRuRasAEpScAOu1dMi7Qcl17lXt/21UtbZ4ahTld95/WeeUlqqaFSzLY6axG9pRBIlVkzNUWhAjGD7GooSTZlud0FvkbzXdNPhRzyKzKF2BsHRwjFHjRKu3q19//NExEQR4RKwAMJScP3SORrKqSCICyyaTEl+NWRcKjsCEOi8TgobOTc8VCsnFsEzYqtNkAIAwwgJCHU4XOn+UZ3/nnlodyqnJNhQ8cKtJvUXKLJjnC3//DCTjV03zFXL//NExE8TSRKwAMMScBReJvW14O7yYZt2ug9YT7pcFO4sBVuJ+IBCm8ZbAbhJCxMYuEMrBAI7TyKL6tkt6u+/r7vuOI17pOGnz7UC4vSZZc3//U+vrf0OGIpaLAIp2NLX//NExFQSMS60AMPWcFA5UOxmhnE5RSBKpvLHFfB8lifjHcCeBWqE/1042VNYY0HgXOtyu4BmJgGA0Fg6FD6xQiDp4It///bRod0BBxl1VB97cl455tns2RcGGeODfOGE//NExF4RsKawAMPeTH0qnphKpEhQkEehO2QFsNSEL8GkwhdjDjyWp39N9U9asjlmJHB4aKBkFiQjMJ///9bOJlkkKGsBjX/ia9twXIviVJUYbXyY7SOAp++3OUx0AnC8//NExGoR+TqsAMPUcIswDUPIvg1DwCoEqiPhgpdet6vVr1Vamr3zdYsrIXhkRrs///01EK5mSENsKJLTDrTMW6ZACZyj7qvGjk9CPsMv8MyBLhfMLexZYeyYhq0PZAzQ//NExHUR2TKsAVhoAL/iyAyOFkYDyGchiQRAzGRDVZWJwtmkkFk4ecZMiROGCmTrTRQpoLW6VM3NiJnCopBMsGJLGh84XD5ULTJooGhotvz59vzRv/uaF83d2100zBtz//NExIAgyiqgAZmIAfuthSq7KQgjbM9LiX2j39x7leD8oxPU7WbN17ar46mHJRB4OyDyzwSIg+HOQmsY1eN7n31tX6j9jVbdVmzhG2eSXe4cRCZIA///8XNV7YAU0pUM//NExE8SGTKwAdhIAA02KMNkVAwWGGVVPCXc2R1c7UrDREdFOWC/OWWHBidwSS1ICbIMfXmlK9uvni+amuOYfD4Nak7kfqNh0qpX//1g02prxVATLKMDA46oGDJqpiAk//NExFkSQS6gAMvWcBoLcowsH0yJx+nLC0SKIZEkC5omZi2cajZU94fRqQiZGNJNruvLR/qujFZgrGVW//rTBhShWDSP//9SLUGBAhkU4UOzDz10SLDhQGG77BgCRA+b//NExGMSqYaAANsElC7LkYuQuTYQzNsLahaj0X2nPqu1s0L0QMkplYsMNAkBmUDUnRVoSO/8eZLBRpv///qqMP3o8tJTG8uPOOIwynjvFAN6i4y6QDfpFAIPMkhkCAFb//NExGsSUL58AVtgAIwxSLWl/M0CxALwnCbhShWjEG+F1HkP8ab3FjTalYxtonzaoXKoWK+yqrQdEPbhH1EtSSPBxZyYnP/cTDJb5/ke6+Pd5WH8a+IDdJG///8SfW////NExHQgscZkAZx4AOkMGQMG07AJFqXgf1k0ojAIzcRTiQTdJwMlTeMGGMSEBwKHEei5SDy6n6zpYZdpyneh6/Mwy7L+hWyRIkZnyRRxjiRIlIr8QUKfFBQbwUFBQr////NExEQSaLpYAdowAfIb/5BQVZUODnBWDtYHLgtmlbuioBHlKQUqQZsKJh8yMKJUqdgqeARWe408osDQmDqLv29cNSJWeb2QVAQ//+Lf/4KqCHDJJQdaoY1wmT2PZFqx//NExE0PWJYEAMjGTLgqRDI0NF0DcLWVOHF4T9iQiFDBMQOz6f/2MqKqdCoNURuWKi2LC4qZ/8WFcVFG4sK6xRv/xUW1C/FRakxBTUUzLjk5LjWqqqqqqqqqTEFNRTMu//NExGISoSVsAHpKcDk5LjWqqqqqqqqqqqqqqqqqqqqqqqqqqqqqqqqqqqqqqqqqqqqqqqqqqqqqqqqqqqqqqqqqqqqqqqqqqqqqqqqqqqqqqqqqqqqqqqqqTEFNRTMu//NExGoAAANIAAAAADk5LjWqqqqqqqqqqqqqqqqqqqqqqqqqqqqqqqqqqqqqqqqqqqqqqqqqqqqqqqqqqqqqqqqqqqqqqqqqqqqqqqqqqqqqqqqqqqqqqqqqTEFNRTMu//NExKwAAANIAAAAADk5LjWqqqqqqqqqqqqqqqqqqqqqqqqqqqqqqqqqqqqqqqqqqqqqqqqqqqqqqqqqqqqqqqqqqqqqqqqqqqqqqqqqqqqqqqqqqqqqqqqqTEFNRTMu//NExKwAAANIAAAAADk5LjWqqqqqqqqqqqqqqqqqqqqqqqqqqqqqqqqqqqqqqqqqqqqqqqqqqqqqqqqqqqqqqqqqqqqqqqqqqqqqqqqqqqqqqqqqqqo0vUC6/5y4Mxj6//NExKwAAANIAAAAACT/lkUOO7Ow0/88CZKAifZOAcgAQAAOEe6Fw54XQC+gmv0GdaZAB2AY8mBmzoEi/6mn2TA6c8DjswJJwNyxA05kFAf9SHwO+9AUTpDbDoAxgGNv//NExKwAAANIAAAAAPq9tQCgQUGBjhgFhAfOBjAQXADsDbP/2pv/iyBcAWzEFxOZDRTgvoAcYJsigep///+mnQQbJEnxzzIwPh+ggwG5gyIuMcgSgVapH3eMYMn8MvPL//NExLAA4AQAAV4AAJFwMUQ0REgPAv9YllJGf481HhcNhg/TSYvnCObG3qeZmbFRgggPZk0pwwJcimIc8qLovEMCLB6GGBH0lfNCgyjiCY4B6kmkmxSTu3zQvHUGbkkP//NExP8ocyogAZqgABMjMoLV/Ugtv7WX+pSBuiYG3/d1pv/qqc+X3U7fqugcPsMJVa/KtRAoTDC3qhKxAoZm1HDH3Oltt557vzTW89cqsgqIoojsVXGsw51qpNPLeZFN//NExLAgCxqkAZtoASuMYStI1GKMUHcZUGDiUiodoDMGOS5WXScbMpyc5oyZjM6ZIpnUjheJRjdh6koaO6SO9v/+69Z5FkTFJbootq///+urQUo2cydGdniR/UYbpvye//NExIIfwuagAdtoAQMKSDZjNX7Qm2MKAjjmFEtz69O9kX7iygS/zVPH1THXpda21s+terLin0iaYxIpGaBIzAzBa1LU3SCnIqIUlB4hsFVQvAmDs9XHEdhkucVMHzMP//NExFYfutqcANvUuEaC1cfBficcVIRiSUON///801pxqFSUy////6aLNc55Q4fEYCO3rkRGygF3nIOiHJDgCTNsn05Rl1AGRP9DbrASLVzyGBHmNnrjHsvPT1UtpvOZ//NExCob6ZqUANMQlARHpWgWk0gkuCRUQgiGjpVDRwqSDYWZA6N1XqrlVGl3qYju63SrWRAUULqDDxOH3pBg60UBCEjh96By5QYpwf/GYo4wn03XeysQZEAHtpuRE41D//NExA0SuRq0AMGGcI4M5wQQz5ZnfDiC/mxHZELyp7hFCDAaKfMv+kxWBzAhe1r1zT8DpLNLiqxMVSdPU6jTyzb3piz5OVASupvWrWtTbIToL6t288JhkoS3tc0+zA7b//NExBUW4uqoANLOuG6FbI8qDwz4PFntzL4cQS1ucGRNp0ZJTu91T6j5gbDwWBeUmnGn9TP+5hmhc53RTErT///+YrZr6///9P9kcqiHmy7otMk6y/tKkef5UDxGLMaM//NExAwSmZKwAMoOlKMAbVXLhYAwnmkB033FxWvyzfRDviTtIGCIAcSszHe/RWxwqERqXZ/X1bo+qHjx4WJO//OpCphqf/+ywDWTVf7yuK7aDO1qMYEBpN9Z1UpbP6xt//NExBQSAL64AMYETH8j0m9vQx1O4CCgtrb5WHH/07rXs/tlw8IGg/B8HDJpZCEXlIRZCw0hcTBMo4+HEhBBRxPwkCbVslrb////r////vdF2dpFIhHV3DsHMRT3hxZn//NExB8OUu7MAGgEuYIZyBzKgGhBAMWcjFMNYPmIAEVBTBwwQWQEFc8DAHWZRaVmd////+gG1X////////+n29CzHRQR+4YwduUhwjmsa7oeBO8KJQ1lCjgJQEKUoChH//NExDgQkwLIAFBEuVLK5fUpWug+UNZVScqghwLwiYvA6ogqfMjM11c35v+1wEBCgIkpjGMb///////8zVZDP/r380plYM5S3uUpStKaqOUtTGNKhlEiUiJVK2FYiKli//NExEgSgoqsAJiEuM+VRlGRiYYMfnGBs6MWmNqwGjzvuQptN2LtLrXN8139dx69jREOsWHQKHTFnywa3nZZP1/VUeqeqtzbpZ+HSw5Hrd0Rb2dfsQrLFh7X1wvr/z7q//NExFERmLpgAVooACnYKj/1pY/7AeGWBZBEBmSsACJ0EAbbjbIeAwEASGA05YDFkSA/IgThmRc+Vw9Eig+il+o0QTMzch51SKCH9aeg1dIxUtH/7WL5fN0EFHS4fIK5//NExF0gWyKMAZigARZL/9Ct2pughTSUfdamsieQ///oNpmiCBPp8+pZ4uM61HC8wLWjEw5gbYQhItGtZ1SiSMJwTLhtNFEqwjZkqJqsxK+LXbZeJBrqkbWYfSpF73qQ//NExC4QmNaoAcZ4AEsWdP1K00zu5CFMK/+v7P6/9cexav7ERkM8W0k4YiIFLNABXkqG4MSPvLAr8tl48Rgq0VP1Ok2eLYteCQXHlF27DRWSSboPV6t0X62pY10xqAs7//NExD4SEPakAMvWcN1dW9H/////7vpqt0VMFj5xvDXaVeJosJOxp4IBp4bGrspbIJEq6Q3E30IJLDT7Bic5FDJAJJJymktkA80f4KfxDqZRp9xyC06HCcyQA3eHzk+g//NExEgYiYqUANYglHC4b5o1X/pf/dV0tNZcLiBRNHNhxQqTT//IVcrNpnIF+oV2pQ54PMuE/qDRo2AOaPJtI0PHSz76hYLPJNNJzK8dfKAlhm5xeAy3Kz1eRi7MAE0J//NExDga8ZqcANYalKVSkssX1CDhMx4gQYHCBJkNyGJYJgUSebGjWT/qu9lrtZkHOKmzFM6ibIHzxyFAATO//l3X4WwoaJv2I4z0AuDxm5TSKXm1DiEhERaaQzlKWNiE//NExB8WiZKoAMvWlK5L6xeqqi1plwvRPM0WRmYSYFzh5EgAJCFJqI2kh6BkUHX746+f9/+z/Zzwm9+5U4LgsNJHGf+x6weIKv3jTI8Dfr1p8DXMaL3WTWRqlglE2ogn//NExBcRcaKwAMKMlNCXoPW53Ufepn8kHiiAyTVBZZLWBBiTOhef5ef62/62/w+X2hGIgsJqPf/S9Npm/KvECTRLrObZ4HmRmmYGC3wPZNrQJJ32X8x/9av3be+zPh5R//NExCQRMSKsAMrMcGRq/ZQGRJg5BLGM0ikBDmnvMRKSA51J06//5XBUV///rs7nU0B1FZkjRANBwFgw9cfyH71TGyCtC+XoXo/N/XEz06uYIIhFONEAPwhU9A9q5i/2//NExDIRGZaoAMiQlP5r+V/a+WFmhphD/7uXd//9kfWlXspSYbQlEXZY0Zsx85DRCLTyAewlWmSq0WUtFan3/8T9/pE3TxIsIIgmDUJhipJNJFR0gqcEAs9aTXtrBZR7//NExEASeR6IAMtQcP/6BEqV//+1riRGUDEgws3JTmfFlXWVtQkteg2DgMIkFlorIZ1Kn/9Ns+c2aZJ2fKfO+MSS3sxyQKYsiUFQe1kiWeg0HSt//+lqf//6qhGCB1hp//NExEkQ0SZUAMlMcAspipElOTLXhWwTAQaEoraKrCjVCZKpGUFyVRkYhLTGtJNW0KvCLo6ZtQ5gxQtjm32rFHaXWuvCKjDUoe1bSbSKquVZ6iOPN0sd/L7bgGUh+9b9//NExFgRkFYkAUkYAAIF0Fql82itA9ALTKGbpvAHQAaET+Fo7M2tU/E7lYBhYfoQilpvo1tcUAO0ZMNVkTb9etrw48WQXRRxzQ9cBp/+uvvZgxoLAUReBygNggcIya/9//NExGQh+yYwAZuYAF11XetuX5cHWSYo5OF8g5mbmf/1t9C7bN+mpzCXDxuWy4oijTNvBhjVDkwVsvmW9amWg5KHerpE9NT0PQ2MyVHuc1fp6RcPksZpXQUurZDTJUtR//NExC8dMyqsAYZoAB5jkYke6fqUgzrRSOi2HQNwviYEsaiMFHoIKQqbdBT06L2jEEbEoHocGUaMJiG+iSn//s1qDvqb3JQ2HGmShANzM3YvnEXciB8EddhufHfbU//r//NExA0VCnbAAcsQAf66rV//rUjhHI52b/7+dOX//2R1KgqFKJEto4YxlK7KYxcxwwqUMBIFYtjkFBRLGVWgSQx2YUcBMdI8bCWx8V8Z83gvxcuyKu/bDkg+TTk9h6gQ//NExAsUkR6sAMIMcCrqGKPgOt7lDzLc823e5tLn5rZ58aXSaA4JCUtx5zO8P/rfHizgBsq+kPNI0jNBUx3yRYPEyL3pQPaeHrQNdHp3C1sVosXF6v3AZjw30ylIn1Lo//NExAsUEt60AMFEuCUGlfU+f63cWupDPbX211KosHQQjNb/59SqpBv/X/8k7f/J9CfVz2Ic532rZ6HJU71nyMp3IdGseSQ5zudCI4gRkwfPh+qgUIDJZWm9+33+v/8i//NExA0U+x7EAFBKvBCOQ3/L/amu8//0dLMydG/637KghVFrYxjkexyoMElPVCFFxRxMPiZmHiAfD73ER4ucEUTExeJh8XmFDiQowo4oOO6IcofP/////y////////////NExAwQ0x7IAABKvKK1uuVex5jFDrvY2Qs7I6EOUkziwujjWUUIURFhwuQGEIuKEEBAKEQ0gxBoOEDDh4cCYqJCokOV/////5//////////7////9vv/35///2/djfW//NExBsSaxrEAABMvbbsfcazvJxp+5RktCEAu+8w0nAkHBEBRjBZgcHLJmJu89aRO7KJncwgjKOIYZki/9//////5R6z//////////5/nivuf+uP55nmHvmWx0MzLbFz//NExCQSUxLEAAhQub6ua/IsKlugc41TTJU044Q6CIWEZyCyTsbatRQtRsXSIPkmhmKqusLeEjNi4dNhMz7V/T///+zogYBEpIMe3/grP///306U6dNfKZ2qyshqOUqh//NExC0Smra8AGiEuUrUMKNVjKJKAiTXKVJspbwIUDDGFBUz2yoK7Fwrdf3ogRMVRaz/R8yJEioejQZhayAjfJHzXzO+/s//3G718orTSYsgSNTQaCaXxyrQY85Z+M7F//NExDUQ4SqwAMqMcBRogJBtn//RHmW7v/9w1a2NMOAkdkJpxgQ1F3Pt8bpf9Agbdsgtp6c3Xsb2voauQGQWjg7AmIzIIZtODwclKL15H8T8t83PozIxKlP/9xkVLM////NExEQRYZqwAMlQlP6l7rMUAEYW9VHQQ1fd1+uPrz4D8R4l06tr79+3O49xSeewoDzopGDkUaEURX1fM5nH2xMHlOv/9UeYPi4c//o5d4qfsnGC6v/MUyB8uWxGGd4E//NExFERWY6sANFOlANiuv7vqE1Th2z9evv/H+vwu5cZYdgcH0BwTUkB2HpLkD66uXakqfy1pCLQco//qGGgP//5FpWYNkaUlUXLcwQfFIFqqWEyZ+A52ZkXNhMV14g+//NExF4R6Y6kAMiQlEfTq////+a+r8RVNwstoHI+6NVM5olm9u5a3SU7FRqg5/8NsQJ2x3/91qgiBTDSKcM5QYFoNkJfPAY4LMm5wWnZe78h55pTQ/K9W07f/6ntVC7B//NExGkRgZKkAMlQlEEkbqUIIxTMQUI07ux1ViIZXRBMeqhQdND7GkfZ/X29LNqlyCTKIXn/////3mUkedqbXMrUifkxM5HxF+1oACqBQBKnjMBB5nLF89+oZOsbs6S+//NExHYVqtqcANHKuLPZx84hlaeVvm1ahbucQDcPFYBCCwJYmCCicGCw7EgxcJY8zmr1GlajdaBiaLk0vGxobCseSHa+Xma7NbvXrUttFl55dbNJJV0H///9X3WyLG5m//NExHIfMxaQANtauVijiSk2dka2SnJCxlzATBcUFcrNi9hjswGbAgAmtGBBpEH2NvZr4sWsXAgswINqJDOFdcsHrlEr45D0Bqk+ZCtAuYNIucL6nyfIcILlApj5BcLi//NExEgg6taMANwUuYwEKqsKJxQuqlDFz1NF7GkIiS5OaGJc1x4YqG6mf/+yLOj6YhU2cRltv//9HzUoYcUOJUIB6MKGMPZ4xdx5soji0JMFL5MjUxJZZgz4YFIe38q///NExBcXutqcANsKuOg+99G+zECZYrM49OMdOOWm51MmZSj0vlHrPDt9TsydwFF9BIID7S6PR90dZWuEnKHwkPcjsZjPdv///X9//////qY2OKGv1MqJkR7RqSiZas8L//NExAsRqSqcAMrQcMrCjcsWiEbeO1kJHuUjaNI77vym+apmuhBNFWARCGjgdD6VKOiaySDuYmuTZWp7XuCQVGsAzf/////8tUjlAzAVY52uN7IAYImOBpgIoOhKPagj//NExBcSeSpgAVsYABaWM6nqaZpLOOsu/q17H3+if18sBOGuTKUNY1Ehh6SqQUBLCkilZ0OkgqeKgkWJs/xn1jxDIfdkPpp1PdTTf6f+ibIYTM/MMZNC850/urup40PM//NExCAZIya8AYI4AEMQVmf9j2PPaYNwuNRqLhqpcEAe//g/caDQgXzDCCBAGEB4MhEWKDhYUiT//5kwxjyhAuYxlsAcNiIPngPGxUUBGQMESigG/Z1/////3QQQdp+3//NExA4Q2ibEAcEQAeyshVolP9PVpjOCdByuxDyc27O6C3dCODYSHNDKrTECoFaTk8eY98U79T2/9gqoLA3Niz3s9dYUIF2LnfiJhUKNcbYYxAHBEwxY+TVr0dvznsmh//NExB0R6MqwAMHKcCyiYdOBgeNgkWKWMCgdC4Qb6NkiXQFF/aOkVD3wVGsQkjelvEVSSXvqVIqti2IbAEmodYeUQrOcMdCBg7a4ZIuuMuikQ5ciXZOa2mZbj41Bqeig//NExCgS+Y6oAMpOlJW2gDR4k5FGMGz53WyllPNXS9P/bOajlhKIUUsJ/rjSxW8tK5+CSQce8Q19MEySFBM15J1qyxnfiUixlcO391eWt443BWjqUxpnlQWKArINAqOW//NExC8RkR6MAVooAJ/7ylUYLOM5b5U6xolO1hMYFRj/iWVkVREWd9DMzPQEgFdhBT9rTyT0CCpRTX7pjAL0O/EQDlQFP9BhSImQ0B5WpfNDR5PjLhYMQ80/+xdIOTkY//NExDsgCyqEAZmAAPEE/6H3HCQcuF0kyKGX//u5NuIKC4BwESEKCPCt///+R4uMnBHAsA6BZBVH2LjQLn///7fxXxOY7C+YFcmyDkyUjxaTL6rWmNgJ8AT2DAIOetOd//NExA0SISK4AdgwADDi+fO08v5lSXs7mG+7EM3aMx9jGhBSZMmJBwvXuI//v+I8IUxBAufLv336gMOInmfkioaiIO18lwa+iv1BIkilyRdd3B/VdT5dRsM64ODeFJXG//NExBcR4SbAAMPQcJy7+FWWPqkC8s2ZdaIuh4eiAAwGpTC6pLOehRE6GNllFljSIFo9LxQWIoO//9DaIkr3KACzEbyZX0VE9SjRuDAW+pFDqGzbwrdeDvwNZZVSVeXU//NExCIQsSLAAHvQcAOGoDhNOHzILWhvLTwu4s0G4MBUHUHk/Q8///yCzbRgGsZB2HHZgCZiMZy6kCCYQBnmgSd8T9oOB9eItWYr1o+CM22unhMdJhEBUU8EK1aLuc9x//NExDIQ4Sq8AHsMcF0kYUjF97/UwS//9bjaUAuqusMAHQtX5hFpombllTNHMNUxC6ITEViqu1YwxpWvIPmFTBc/Ksp7IAyx5FBFjCzbVV058HQsuFcItd9VqGu//rRo//NExEEQqSa8AU8wAESNKmnGLGFDSxIELCIpEkSC5pbBkKYK9mQIZpFNRCPHqdBmmKhQ4S5H6nW5zYjmb3BWn62M7lDWDRPgt8ivVR0nE9alMp2xbQlJYRyVOZSqSKom//NExFEgYfqoAZh4AVOZtUkBDzkVuN2+IL22bVpSJG+t321R8f//zxK7//9L/////2l3dCt83q6t/UyAkPWEpg5gfqhAwqp+Krrsa0Y50rQsnLR/ezLnK1aBrrxyGyhs//NExCISESqwAc9IAKfVhzkORfks6E80SPTtYWy0TGGHnE4rWAZ4tc5N7TLkf/8tPEmjlbUyM5bW6AlX2ip8aZis6ohu9MckRU6XEbESfD62Yvx/DLls89frxtFJf2SG//NExCwSWSKoAMPScIsOzQEPFDjp+JdFJejAU7gyK3PFgGx3//w0wAHB6vzLWoxzomG9EShFM0hf9BNvli8jRiNEwz+FT5p8/37+X/H7v3f17XkcTJjhItOyrDAfMsrq//NExDUSKSakAMPScMQWFw63rYNJGF2f/6wog+NUGmzVjDABi5LN/wdk1xhis7sM+Jh4LbjIc5nn3+WaWvXw1Y1fO2/su1zRSRcoSInDUiDqNpEDQwKhEH1LFxRTFLuM//NExD8SgS6cAVk4AIsIgKz//1OsGBWMLF4xi8VwGIJmfVDIMqBFcFvlDkjkVkooy2ecir34XV4hpJp/Ccab9q6xim8++q2h/H/+sYh831YoB9x6tZyKJSOr61FTxMTG//NExEggUmKMAZp4AIzbmLixenDdN0o+lccXr48SFuv/71rrr//xXz7P///+IM15JPq3/gX9YGo+s/5160jAzTjzS/xV2lUuoKUeI9LYQZDwYIAFFib1C8OY0lUpS2qK//NExBkSWZJMAc8YAFVqtVrLhiTwDAwEx1VbVVLZl4zHQoCdVV2Zl/X/VVVSjMUZv/+Mx1QFqjxX//4Kw0qJRNP4zgdeIRbLdae4AtpiVG52JHgFFm7PDo12NYa9PNYe//NExCIQoSIIAMGGcL+22qrqTOArBQieLPqNB2s7brDXs/vRTcW1P7P5X9kiqg4izPxjbFydxglkZhzqwmYeBAYEBE4uN8nHFxcb1gwNDJlDAwcssChgYNAs0WFxXKhI//NExDISGOGYAHmGcDz+4BBIVZFRRv9TcVbiwuz//rFG4sK1TEFNRTMuOTkuNVVVVVVVVVVVVVVVVVVVVVVVVVVVVVVVVVVVVVVVVVVVVVVVVVVVVVVVVVVVTEFNRTMu//NExDwAAANIAAAAADk5LjVVVVVVVVVVVVVVVVVVVVVVVVVVVVVVVVVVVVVVVVVVVVVVVVVVVVVVVVVVVVVVVVVVVVVVVVVVVVVVVVVVVVVVVVVVVVVVVVVVTEFNRTMu//NExI8AAANIAAAAADk5LjVVVVVVVVVVVVVVVVVVVVVVVVVVVVVVVVVVVVVVVVVVVVVVVVVVVVVVVVVVVVVVVVVVVVVVVVVVVVVVVVVVVVVVVVVVVVVVVVVVTEFNRTMu//NExKwAAANIAAAAADk5LjVVVVVVVVVVVVVVVVVVVVVVVVVVVVVVVVVVVVVVVVVVVVVVVVVVVVVVVVVVVVVVVVVVVVVVVVVVVVVVVVVVVVVVVVVVVVVVVVVVTEFNRTMu//NExKwAAANIAAAAADk5LjVVVVVVVVVVVVVVVVVVVVVVVVVVVVVVVVVVVVVVVVVVVVVVVVVVVVVVVVVVVVVVVVVVVVVVVVVVVVVVVVVVVVVVVVVVVVVVVVVVTEFNRTMu//NExKwAAANIAAAAADk5LjVVVVVVVVVVVVVVVVVVVVVVVVVVVVVVVVVVVVVVVVVVVVVVVVVVVVVVVVVVVVVVVVVVVVVVVVVVVVVVVVVVVVVVVVVVVVVVVVVVTEFNRTMu//NExKwAAANIAAAAADk5LjVVVVVVVVVVVVVVVVVVVVVVVVVVVVVVVVVVVVVVVVVVVVVVVVVVVVVVVVVVVVVVVVVVVVVVVVVVVVVVVVVVVVVVVVVVVVVVVVVVJIpKDjEy//NExKwAAANIAAAAAATtvubm4rCRxhxDhIrEOTo5l/8qspkaOif/1mEihhxAsADhQISOMLEAYACpkZGRspkZOgcKwkcYWIFpKZGRkZkZGRo9yMjIyIyMjR4yihhxhYh7//NExKwAAANIAAAAAAjIyMiMjI0eMooYcYWhcYsqeCQKCGAGH48AQREhQdn5cBoaDmI4sFwNtEBJbahPIgJLRt7Ce/w850jmogYm3PwhZGTyFAocQChjJkyabA4DTMAA//NExKwAAANIAAAAAAEDwGAEDwGF6YCEE2IAAgWAwGs8LT2IiOYQh7vWi9aO+tGxGPf945NNiBDLIIZZMnbECewQIIOTC0DyZPYIEI0wgg5MnsE7aACIYyHtCCRD+O0h//NExP8aSszIADDGuSwEGPInouLON0fqQHqRx+lxUgAR0BgNFwAiURAk4iJpoclsZf/xjS2LNJoYERMmKiZUUsrNXiqHEQqWaRR8kSOUSS2qqtNBUSgUJYkl8/olppFR//NExOgkAtnMAGJMucSpq3/vP/7zlU9bMsSqSOzOf9jpY5LZmceUcqq/9VppFE4lLVX/c2tNRwKfw7EL0R4ZJACRlsMs8EujjpLcT0mRQkYJmTAqjZMw70MUaw7cWViY//NExKshguXQAHpMuVub2xjeP4+rVtLJemtxXz1ubWprbW5rbH7yPNPasKDIDCBwiORk1lpGrBQwMEGBggYR0MiZWCggYR7HIy/8jVrAYUEDBOjkZqysDBWioct/6S0w//NExHgggjz8AHvGuaqoMWVBiVVdIlVMQU1FMy45OS41qqqqqqqqqqqqqqqqqqqqqqqqqqqqqqqqqqqqqqqqqqqqqqqqqqqqqqqqqqqqqqqqqqqqqqqqqqqqqqqqqqqq\" type=\"audio/wav\" />\n",
       "                    Your browser does not support the audio element.\n",
       "                </audio>\n",
       "              "
      ],
      "text/plain": [
       "<IPython.lib.display.Audio object>"
      ]
     },
     "execution_count": 5,
     "metadata": {},
     "output_type": "execute_result"
    }
   ],
   "source": [
    "synthesize(\"Hello, PyCon! It is great to see you today.\")"
   ]
  },
  {
   "cell_type": "markdown",
   "metadata": {},
   "source": [
    "## Not just one voice, many!\n",
    "\n",
    "The API contains a variety of voices for use across a variety of languages."
   ]
  },
  {
   "cell_type": "code",
   "execution_count": 19,
   "metadata": {},
   "outputs": [
    {
     "data": {
      "text/plain": [
       "voices {\n",
       "  language_codes: \"es-ES\"\n",
       "  name: \"es-ES-Standard-A\"\n",
       "  ssml_gender: FEMALE\n",
       "  natural_sample_rate_hertz: 24000\n",
       "}\n",
       "voices {\n",
       "  language_codes: \"ja-JP\"\n",
       "  name: \"ja-JP-Standard-A\"\n",
       "  ssml_gender: FEMALE\n",
       "  natural_sample_rate_hertz: 22050\n",
       "}\n",
       "voices {\n",
       "  language_codes: \"pt-BR\"\n",
       "  name: \"pt-BR-Standard-A\"\n",
       "  ssml_gender: FEMALE\n",
       "  natural_sample_rate_hertz: 24000\n",
       "}\n",
       "voices {\n",
       "  language_codes: \"tr-TR\"\n",
       "  name: \"tr-TR-Standard-A\"\n",
       "  ssml_gender: FEMALE\n",
       "  natural_sample_rate_hertz: 22050\n",
       "}\n",
       "voices {\n",
       "  language_codes: \"sv-SE\"\n",
       "  name: \"sv-SE-Standard-A\"\n",
       "  ssml_gender: FEMALE\n",
       "  natural_sample_rate_hertz: 22050\n",
       "}\n",
       "voices {\n",
       "  language_codes: \"nl-NL\"\n",
       "  name: \"nl-NL-Standard-A\"\n",
       "  ssml_gender: FEMALE\n",
       "  natural_sample_rate_hertz: 24000\n",
       "}\n",
       "voices {\n",
       "  language_codes: \"en-US\"\n",
       "  name: \"en-US-Wavenet-A\"\n",
       "  ssml_gender: MALE\n",
       "  natural_sample_rate_hertz: 24000\n",
       "}\n",
       "voices {\n",
       "  language_codes: \"en-US\"\n",
       "  name: \"en-US-Wavenet-B\"\n",
       "  ssml_gender: MALE\n",
       "  natural_sample_rate_hertz: 24000\n",
       "}\n",
       "voices {\n",
       "  language_codes: \"en-US\"\n",
       "  name: \"en-US-Wavenet-C\"\n",
       "  ssml_gender: FEMALE\n",
       "  natural_sample_rate_hertz: 24000\n",
       "}\n",
       "voices {\n",
       "  language_codes: \"en-US\"\n",
       "  name: \"en-US-Wavenet-D\"\n",
       "  ssml_gender: MALE\n",
       "  natural_sample_rate_hertz: 24000\n",
       "}\n",
       "voices {\n",
       "  language_codes: \"en-US\"\n",
       "  name: \"en-US-Wavenet-E\"\n",
       "  ssml_gender: FEMALE\n",
       "  natural_sample_rate_hertz: 24000\n",
       "}\n",
       "voices {\n",
       "  language_codes: \"en-US\"\n",
       "  name: \"en-US-Wavenet-F\"\n",
       "  ssml_gender: FEMALE\n",
       "  natural_sample_rate_hertz: 24000\n",
       "}\n",
       "voices {\n",
       "  language_codes: \"en-GB\"\n",
       "  name: \"en-GB-Standard-A\"\n",
       "  ssml_gender: FEMALE\n",
       "  natural_sample_rate_hertz: 24000\n",
       "}\n",
       "voices {\n",
       "  language_codes: \"en-GB\"\n",
       "  name: \"en-GB-Standard-B\"\n",
       "  ssml_gender: MALE\n",
       "  natural_sample_rate_hertz: 24000\n",
       "}\n",
       "voices {\n",
       "  language_codes: \"en-GB\"\n",
       "  name: \"en-GB-Standard-C\"\n",
       "  ssml_gender: FEMALE\n",
       "  natural_sample_rate_hertz: 24000\n",
       "}\n",
       "voices {\n",
       "  language_codes: \"en-GB\"\n",
       "  name: \"en-GB-Standard-D\"\n",
       "  ssml_gender: MALE\n",
       "  natural_sample_rate_hertz: 24000\n",
       "}\n",
       "voices {\n",
       "  language_codes: \"en-US\"\n",
       "  name: \"en-US-Standard-B\"\n",
       "  ssml_gender: MALE\n",
       "  natural_sample_rate_hertz: 24000\n",
       "}\n",
       "voices {\n",
       "  language_codes: \"en-US\"\n",
       "  name: \"en-US-Standard-C\"\n",
       "  ssml_gender: FEMALE\n",
       "  natural_sample_rate_hertz: 24000\n",
       "}\n",
       "voices {\n",
       "  language_codes: \"en-US\"\n",
       "  name: \"en-US-Standard-D\"\n",
       "  ssml_gender: MALE\n",
       "  natural_sample_rate_hertz: 24000\n",
       "}\n",
       "voices {\n",
       "  language_codes: \"en-US\"\n",
       "  name: \"en-US-Standard-E\"\n",
       "  ssml_gender: FEMALE\n",
       "  natural_sample_rate_hertz: 24000\n",
       "}\n",
       "voices {\n",
       "  language_codes: \"de-DE\"\n",
       "  name: \"de-DE-Standard-A\"\n",
       "  ssml_gender: FEMALE\n",
       "  natural_sample_rate_hertz: 24000\n",
       "}\n",
       "voices {\n",
       "  language_codes: \"de-DE\"\n",
       "  name: \"de-DE-Standard-B\"\n",
       "  ssml_gender: MALE\n",
       "  natural_sample_rate_hertz: 24000\n",
       "}\n",
       "voices {\n",
       "  language_codes: \"en-AU\"\n",
       "  name: \"en-AU-Standard-A\"\n",
       "  ssml_gender: FEMALE\n",
       "  natural_sample_rate_hertz: 24000\n",
       "}\n",
       "voices {\n",
       "  language_codes: \"en-AU\"\n",
       "  name: \"en-AU-Standard-B\"\n",
       "  ssml_gender: MALE\n",
       "  natural_sample_rate_hertz: 24000\n",
       "}\n",
       "voices {\n",
       "  language_codes: \"en-AU\"\n",
       "  name: \"en-AU-Standard-C\"\n",
       "  ssml_gender: FEMALE\n",
       "  natural_sample_rate_hertz: 24000\n",
       "}\n",
       "voices {\n",
       "  language_codes: \"en-AU\"\n",
       "  name: \"en-AU-Standard-D\"\n",
       "  ssml_gender: MALE\n",
       "  natural_sample_rate_hertz: 24000\n",
       "}\n",
       "voices {\n",
       "  language_codes: \"fr-CA\"\n",
       "  name: \"fr-CA-Standard-A\"\n",
       "  ssml_gender: FEMALE\n",
       "  natural_sample_rate_hertz: 24000\n",
       "}\n",
       "voices {\n",
       "  language_codes: \"fr-CA\"\n",
       "  name: \"fr-CA-Standard-B\"\n",
       "  ssml_gender: MALE\n",
       "  natural_sample_rate_hertz: 24000\n",
       "}\n",
       "voices {\n",
       "  language_codes: \"fr-CA\"\n",
       "  name: \"fr-CA-Standard-C\"\n",
       "  ssml_gender: FEMALE\n",
       "  natural_sample_rate_hertz: 24000\n",
       "}\n",
       "voices {\n",
       "  language_codes: \"fr-CA\"\n",
       "  name: \"fr-CA-Standard-D\"\n",
       "  ssml_gender: MALE\n",
       "  natural_sample_rate_hertz: 24000\n",
       "}\n",
       "voices {\n",
       "  language_codes: \"fr-FR\"\n",
       "  name: \"fr-FR-Standard-C\"\n",
       "  ssml_gender: FEMALE\n",
       "  natural_sample_rate_hertz: 24000\n",
       "}\n",
       "voices {\n",
       "  language_codes: \"fr-FR\"\n",
       "  name: \"fr-FR-Standard-D\"\n",
       "  ssml_gender: MALE\n",
       "  natural_sample_rate_hertz: 24000\n",
       "}"
      ]
     },
     "execution_count": 19,
     "metadata": {},
     "output_type": "execute_result"
    }
   ],
   "source": [
    "client = texttospeech.TextToSpeechClient()\n",
    "voices = client.list_voices()\n",
    "voices"
   ]
  },
  {
   "cell_type": "markdown",
   "metadata": {},
   "source": [
    "## More natural speech using Wavenet voices\n",
    "\n",
    "The Text to Speech API offers several voices that uses Google's Wavenet technology to synthesize more natural sounding voices."
   ]
  },
  {
   "cell_type": "code",
   "execution_count": 10,
   "metadata": {},
   "outputs": [
    {
     "data": {
      "text/html": [
       "\n",
       "                <audio controls=\"controls\" >\n",
       "                    <source src=\"data:audio/wav;base64,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\" type=\"audio/wav\" />\n",
       "                    Your browser does not support the audio element.\n",
       "                </audio>\n",
       "              "
      ],
      "text/plain": [
       "<IPython.lib.display.Audio object>"
      ]
     },
     "execution_count": 10,
     "metadata": {},
     "output_type": "execute_result"
    }
   ],
   "source": [
    "synthesize('Hello again, this voice uses wavenet.', voice='en-US-Wavenet-B')"
   ]
  },
  {
   "cell_type": "code",
   "execution_count": 11,
   "metadata": {},
   "outputs": [
    {
     "data": {
      "text/html": [
       "\n",
       "                <audio controls=\"controls\" >\n",
       "                    <source src=\"data:audio/wav;base64,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\" type=\"audio/wav\" />\n",
       "                    Your browser does not support the audio element.\n",
       "                </audio>\n",
       "              "
      ],
      "text/plain": [
       "<IPython.lib.display.Audio object>"
      ]
     },
     "execution_count": 11,
     "metadata": {},
     "output_type": "execute_result"
    }
   ],
   "source": [
    "synthesize('\"and what is the use of a book,\" thought Alice, \"without pictures or conversations?\"', voice='en-US-Wavenet-C')"
   ]
  }
 ],
 "metadata": {
  "kernelspec": {
   "display_name": "Python 3",
   "language": "python",
   "name": "python3"
  },
  "language_info": {
   "codemirror_mode": {
    "name": "ipython",
    "version": 3
   },
   "file_extension": ".py",
   "mimetype": "text/x-python",
   "name": "python",
   "nbconvert_exporter": "python",
   "pygments_lexer": "ipython3",
   "version": "3.6.0"
  }
 },
 "nbformat": 4,
 "nbformat_minor": 2
}
